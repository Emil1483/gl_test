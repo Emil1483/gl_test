{
 "cells": [
  {
   "cell_type": "markdown",
   "metadata": {},
   "source": [
    "# installer moderngl"
   ]
  },
  {
   "cell_type": "code",
   "execution_count": null,
   "metadata": {},
   "outputs": [],
   "source": [
    "!pip install moderngl"
   ]
  },
  {
   "cell_type": "code",
   "execution_count": 7,
   "metadata": {
    "scrolled": true
   },
   "outputs": [
    {
     "name": "stdout",
     "output_type": "stream",
     "text": [
      "2021-05-28 12:07:44,004 - moderngl_window - INFO - Attempting to load window class: moderngl_window.context.pyglet.Window\n",
      "2021-05-28 12:07:44,527 - moderngl_window.context.base.window - INFO - Context Version:\n",
      "2021-05-28 12:07:44,527 - moderngl_window.context.base.window - INFO - ModernGL: 5.6.4\n",
      "2021-05-28 12:07:44,527 - moderngl_window.context.base.window - INFO - vendor: Intel Inc.\n",
      "2021-05-28 12:07:44,528 - moderngl_window.context.base.window - INFO - renderer: Intel(R) HD Graphics 6000\n",
      "2021-05-28 12:07:44,528 - moderngl_window.context.base.window - INFO - version: 4.1 INTEL-14.6.18\n",
      "2021-05-28 12:07:44,528 - moderngl_window.context.base.window - INFO - python: 3.8.3 (default, Jul  2 2020, 11:26:31) \n",
      "[Clang 10.0.0 ]\n",
      "2021-05-28 12:07:44,528 - moderngl_window.context.base.window - INFO - platform: darwin\n",
      "2021-05-28 12:07:44,528 - moderngl_window.context.base.window - INFO - code: 410\n",
      "2021-05-28 12:07:44,528 - moderngl_window.context.base.window - WARNING - glerror consumed after getting context info: GL_INVALID_ENUM\n",
      "2021-05-28 12:07:46,295 - moderngl_window - INFO - Duration: 1.73s @ 14.46 FPS\n"
     ]
    }
   ],
   "source": [
    "# @title Kjør programmet\n",
    "\n",
    "speed = 1.0  # @param {type: 'number'}\n",
    "turn_speed = 1.0  # @param {type: 'number'}\n",
    "sensor_angle_spacing = 1.0  # @param {type: 'number'}\n",
    "sensor_offset_dist = 1.0  # @param {type: 'number'}\n",
    "\n",
    "!python texture.py"
   ]
  },
  {
   "cell_type": "code",
   "execution_count": null,
   "metadata": {},
   "outputs": [],
   "source": []
  }
 ],
 "metadata": {
  "kernelspec": {
   "display_name": "Python 3",
   "language": "python",
   "name": "python3"
  },
  "language_info": {
   "codemirror_mode": {
    "name": "ipython",
    "version": 3
   },
   "file_extension": ".py",
   "mimetype": "text/x-python",
   "name": "python",
   "nbconvert_exporter": "python",
   "pygments_lexer": "ipython3",
   "version": "3.8.3"
  }
 },
 "nbformat": 4,
 "nbformat_minor": 4
}
