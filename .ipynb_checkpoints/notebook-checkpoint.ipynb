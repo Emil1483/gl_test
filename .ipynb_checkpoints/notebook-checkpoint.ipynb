{
 "cells": [
  {
   "cell_type": "markdown",
   "metadata": {},
   "source": [
    "# Hensikt\n",
    "\n",
    "Her skal vi se om antagelser av hvordan slim oppfører seg på mikroskopisk nivå, kan gjenskaper bilder av slim tatt med mikroskop.\n",
    "\n",
    "I tillegg er det verdt å nevne at moderngl (en \"moderne\" utgave av opengl for python) var fullstendig nytt for meg da jeg starta prosjektet. Og derfor er koden inni texture.py svært dårlig, så vær så snill å ikke mobbe meg for det. I tillegg vil du finne andre test-prosjekter som jeg brukte til å lære meg viktige konsepter innen opengl."
   ]
  },
  {
   "cell_type": "markdown",
   "metadata": {},
   "source": [
    "# Teori\n",
    "\n",
    "Her er noen antagelser av hvordan slim oppfører seg på mikriskopsik nivå\n",
    "\n",
    "### Antagelse 1\n",
    "\n",
    "slimpartiklene (i texture.py, \"agents\") etterlater seg spor.\n",
    "\n",
    "\n",
    "### Antagelse 2\n",
    "\n",
    "Disse sporene blir diffusert. Altså, sporene i seg selv sprer seg over arealet rundt seg.\n",
    "\n",
    "### Antagelse 3\n",
    "\n",
    "Sporene forsvinner gradvis og linært.\n",
    "\n",
    "### Antagelse 4\n",
    "\n",
    "Alle slimpartiklene beveger seg med en konstant hastighet, i en retning (en vinkel) som den kan bestemme selv.\n",
    "\n",
    "### Antagelse 5\n",
    "\n",
    "Hvert slimpartikkel beveger seg mot sporene. Dette gjør de ved å se på hvor mye spor det er\n",
    "- foran dem\n",
    "- til høyre for dem\n",
    "- til venstre for dem\n",
    "\n",
    "Dersom det er mest spor foran, vil den ikke endre retning.\n",
    "Dersom det er mer spor til venstre og til høyre, enn det er foran den, vil den endre retning på et tilfeldig vis.\n",
    "Dersom det er mer spor til høyre enn til venstre, vil den endre retning mot høyre.\n",
    "Dersom det er mer spor til venstre enn til høyre, vil den endre retning mot venstre.\n",
    "\n",
    "### \"Antagelse\" 6\n",
    "\n",
    "Det er ganske mange slimpartikler"
   ]
  },
  {
   "cell_type": "markdown",
   "metadata": {},
   "source": [
    "# Om koden\n",
    "\n",
    "siden jeg hadde store vansker med å forstå moderngl, og det ikke er intuitivt i det hele tatt, tenker jeg at det ikke har noe særlig hensikt å analysere koden. Jeg skal derfor heller forklare noen skjenerelle løsninger jeg kom fram til for å implementere antagelsene mine over.\n",
    "\n",
    "Hvert slimpartikkel modifiserer en tekstur. Det vil si at pikselen på hvert slimpartikelen sin posisjon får hvit farge. I tilegg modifiserer jeg hver piksel til et \"interpelated\" verdi mellom seg selv og gjenomsnittet av nabopikslene hvert \"frame\" for å implementere anagelse 2. For å implementere antagelse 3, bare subtraherer jeg en liten verdi fra hver piksel for vært frame. Implementasjonen av antagelse 4 og 5 sier seg selv."
   ]
  },
  {
   "cell_type": "markdown",
   "metadata": {},
   "source": [
    "# Resultater"
   ]
  },
  {
   "cell_type": "markdown",
   "metadata": {},
   "source": [
    "## Installer moderngl"
   ]
  },
  {
   "cell_type": "code",
   "execution_count": null,
   "metadata": {},
   "outputs": [],
   "source": [
    "!pip install moderngl"
   ]
  },
  {
   "cell_type": "markdown",
   "metadata": {},
   "source": [
    "## kjør koden"
   ]
  },
  {
   "cell_type": "code",
   "execution_count": null,
   "metadata": {},
   "outputs": [
    {
     "name": "stderr",
     "output_type": "stream",
     "text": [
      "2021-05-28 17:59:04,353 - moderngl_window - INFO - Attempting to load window class: moderngl_window.context.pyglet.Window\n",
      "2021-05-28 17:59:04,830 - moderngl_window.context.base.window - INFO - Context Version:\n",
      "2021-05-28 17:59:04,831 - moderngl_window.context.base.window - INFO - ModernGL: 5.6.4\n",
      "2021-05-28 17:59:04,832 - moderngl_window.context.base.window - INFO - vendor: Intel Inc.\n",
      "2021-05-28 17:59:04,833 - moderngl_window.context.base.window - INFO - renderer: Intel(R) HD Graphics 6000\n",
      "2021-05-28 17:59:04,836 - moderngl_window.context.base.window - INFO - version: 4.1 INTEL-14.6.18\n",
      "2021-05-28 17:59:04,848 - moderngl_window.context.base.window - INFO - python: 3.8.3 (default, Jul  2 2020, 11:26:31) \n",
      "[Clang 10.0.0 ]\n",
      "2021-05-28 17:59:04,848 - moderngl_window.context.base.window - INFO - platform: darwin\n",
      "2021-05-28 17:59:04,850 - moderngl_window.context.base.window - INFO - code: 410\n",
      "2021-05-28 17:59:04,859 - moderngl_window.context.base.window - WARNING - glerror consumed after getting context info: GL_INVALID_ENUM\n"
     ]
    }
   ],
   "source": [
    "from texture import Texture\n",
    "\n",
    "import sys\n",
    "\n",
    "sys.argv = ['python']\n",
    "\n",
    "Texture.fart = 1.0\n",
    "Texture.rotasjons_fart = 1.0\n",
    "Texture.sensor_vinkel_mellomrom = 0.2\n",
    "Texture.sensor_distanse = 3.0\n",
    "\n",
    "Texture.run()"
   ]
  },
  {
   "cell_type": "markdown",
   "metadata": {},
   "source": [
    "# Diskusjon"
   ]
  },
  {
   "cell_type": "code",
   "execution_count": null,
   "metadata": {},
   "outputs": [],
   "source": []
  }
 ],
 "metadata": {
  "kernelspec": {
   "display_name": "Python 3",
   "language": "python",
   "name": "python3"
  },
  "language_info": {
   "codemirror_mode": {
    "name": "ipython",
    "version": 3
   },
   "file_extension": ".py",
   "mimetype": "text/x-python",
   "name": "python",
   "nbconvert_exporter": "python",
   "pygments_lexer": "ipython3",
   "version": "3.8.3"
  }
 },
 "nbformat": 4,
 "nbformat_minor": 4
}
