{
 "cells": [
  {
   "cell_type": "markdown",
   "metadata": {},
   "source": [
    "# installer moderngl"
   ]
  },
  {
   "cell_type": "code",
   "execution_count": null,
   "metadata": {},
   "outputs": [],
   "source": [
    "!pip install moderngl"
   ]
  },
  {
   "cell_type": "code",
   "execution_count": 6,
   "metadata": {
    "scrolled": true
   },
   "outputs": [
    {
     "name": "stdout",
     "output_type": "stream",
     "text": [
      "2021-05-28 12:07:04,988 - moderngl_window - INFO - Attempting to load window class: moderngl_window.context.pyglet.Window\n",
      "2021-05-28 12:07:05,525 - moderngl_window.context.base.window - INFO - Context Version:\n",
      "2021-05-28 12:07:05,525 - moderngl_window.context.base.window - INFO - ModernGL: 5.6.4\n",
      "2021-05-28 12:07:05,526 - moderngl_window.context.base.window - INFO - vendor: Intel Inc.\n",
      "2021-05-28 12:07:05,526 - moderngl_window.context.base.window - INFO - renderer: Intel(R) HD Graphics 6000\n",
      "2021-05-28 12:07:05,526 - moderngl_window.context.base.window - INFO - version: 4.1 INTEL-14.6.18\n",
      "2021-05-28 12:07:05,526 - moderngl_window.context.base.window - INFO - python: 3.8.3 (default, Jul  2 2020, 11:26:31) \n",
      "[Clang 10.0.0 ]\n",
      "2021-05-28 12:07:05,526 - moderngl_window.context.base.window - INFO - platform: darwin\n",
      "2021-05-28 12:07:05,526 - moderngl_window.context.base.window - INFO - code: 410\n",
      "2021-05-28 12:07:05,526 - moderngl_window.context.base.window - WARNING - glerror consumed after getting context info: GL_INVALID_ENUM\n",
      "2021-05-28 12:07:07,399 - moderngl_window - INFO - Duration: 1.83s @ 15.84 FPS\n"
     ]
    }
   ],
   "source": [
    "# @title Kjør programmet\n",
    "\n",
    "save_dir = '/content/gdrive/My Drive/nerfies/captures'  # @param {type: 'string'}\n",
    "\n",
    "!python texture.py"
   ]
  },
  {
   "cell_type": "code",
   "execution_count": null,
   "metadata": {},
   "outputs": [],
   "source": []
  }
 ],
 "metadata": {
  "kernelspec": {
   "display_name": "Python 3",
   "language": "python",
   "name": "python3"
  },
  "language_info": {
   "codemirror_mode": {
    "name": "ipython",
    "version": 3
   },
   "file_extension": ".py",
   "mimetype": "text/x-python",
   "name": "python",
   "nbconvert_exporter": "python",
   "pygments_lexer": "ipython3",
   "version": "3.8.3"
  }
 },
 "nbformat": 4,
 "nbformat_minor": 4
}
